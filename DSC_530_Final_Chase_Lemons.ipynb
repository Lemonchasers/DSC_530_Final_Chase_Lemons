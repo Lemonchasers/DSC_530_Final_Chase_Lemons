{
 "cells": [
  {
   "cell_type": "markdown",
   "metadata": {},
   "source": [
    "# DSC 530 Final Project\n",
    "## Austin Animal Center Shelter Outcomes: Black Cat Outlook\n",
    "\n",
    "By: Chase Lemons\n",
    "\n",
    "Source of Data: https://www.kaggle.com/aaronschlegel/austin-animal-center-shelter-outcomes-and/version/1\n",
    "\n",
    "Premise:\n",
    "\n",
    "When we began this course, one of the first discussion posts was about sayings or myths we took for granted just because. So another myth that I have heard before was, black cats aren't wanted. Thus, the question is, do black cats get treated differently, or have a different outcome, than not black cats?"
   ]
  },
  {
   "cell_type": "markdown",
   "metadata": {},
   "source": [
    "### Part 1\n",
    "\n",
    "To begin we must import the data and get familiar with it. Thus, we will read in the data and put it in the dataframe Shleter_cat. To begin, we want to get a bit of a summary of what we are looking at, so we use the head() function to get this glimpse.\n",
    "\n",
    "This gives us the insight to narrow our research to know which columns we would like to work with. \n",
    "\n",
    "outcome_age_(years)\n",
    "breed\n",
    "color\n",
    "outcome_type\n",
    "sex\n",
    "spay/neuter"
   ]
  },
  {
   "cell_type": "code",
   "execution_count": 193,
   "metadata": {},
   "outputs": [
    {
     "data": {
      "text/html": [
       "<div>\n",
       "<style scoped>\n",
       "    .dataframe tbody tr th:only-of-type {\n",
       "        vertical-align: middle;\n",
       "    }\n",
       "\n",
       "    .dataframe tbody tr th {\n",
       "        vertical-align: top;\n",
       "    }\n",
       "\n",
       "    .dataframe thead th {\n",
       "        text-align: right;\n",
       "    }\n",
       "</style>\n",
       "<table border=\"1\" class=\"dataframe\">\n",
       "  <thead>\n",
       "    <tr style=\"text-align: right;\">\n",
       "      <th></th>\n",
       "      <th>age_upon_outcome</th>\n",
       "      <th>animal_id</th>\n",
       "      <th>animal_type</th>\n",
       "      <th>breed</th>\n",
       "      <th>color</th>\n",
       "      <th>date_of_birth</th>\n",
       "      <th>datetime</th>\n",
       "      <th>monthyear</th>\n",
       "      <th>name</th>\n",
       "      <th>outcome_subtype</th>\n",
       "      <th>...</th>\n",
       "      <th>breed2</th>\n",
       "      <th>cfa_breed</th>\n",
       "      <th>domestic_breed</th>\n",
       "      <th>coat_pattern</th>\n",
       "      <th>color1</th>\n",
       "      <th>color2</th>\n",
       "      <th>coat</th>\n",
       "      <th>dateofbirth</th>\n",
       "      <th>datetime2</th>\n",
       "      <th>cat_age</th>\n",
       "    </tr>\n",
       "  </thead>\n",
       "  <tbody>\n",
       "    <tr>\n",
       "      <th>0</th>\n",
       "      <td>2 weeks</td>\n",
       "      <td>A684346</td>\n",
       "      <td>Cat</td>\n",
       "      <td>domestic shorthair</td>\n",
       "      <td>orange</td>\n",
       "      <td>2014-07-07 00:00:00</td>\n",
       "      <td>2014-07-22 16:04:00</td>\n",
       "      <td>2014-07-22T16:04:00</td>\n",
       "      <td>NaN</td>\n",
       "      <td>Partner</td>\n",
       "      <td>...</td>\n",
       "      <td>NaN</td>\n",
       "      <td>False</td>\n",
       "      <td>True</td>\n",
       "      <td>tabby</td>\n",
       "      <td>orange</td>\n",
       "      <td>NaN</td>\n",
       "      <td>orange</td>\n",
       "      <td>2014-07-07</td>\n",
       "      <td>2014-07-22 16:04:00</td>\n",
       "      <td>0.041096</td>\n",
       "    </tr>\n",
       "    <tr>\n",
       "      <th>1</th>\n",
       "      <td>1 month</td>\n",
       "      <td>A685067</td>\n",
       "      <td>Cat</td>\n",
       "      <td>domestic shorthair</td>\n",
       "      <td>blue /white</td>\n",
       "      <td>2014-06-16 00:00:00</td>\n",
       "      <td>2014-08-14 18:45:00</td>\n",
       "      <td>2014-08-14T18:45:00</td>\n",
       "      <td>Lucy</td>\n",
       "      <td>NaN</td>\n",
       "      <td>...</td>\n",
       "      <td>NaN</td>\n",
       "      <td>False</td>\n",
       "      <td>True</td>\n",
       "      <td>tabby</td>\n",
       "      <td>blue</td>\n",
       "      <td>white</td>\n",
       "      <td>blue</td>\n",
       "      <td>2014-06-16</td>\n",
       "      <td>2014-08-14 18:45:00</td>\n",
       "      <td>0.161644</td>\n",
       "    </tr>\n",
       "    <tr>\n",
       "      <th>2</th>\n",
       "      <td>3 months</td>\n",
       "      <td>A678580</td>\n",
       "      <td>Cat</td>\n",
       "      <td>domestic shorthair</td>\n",
       "      <td>white/black</td>\n",
       "      <td>2014-03-26 00:00:00</td>\n",
       "      <td>2014-06-29 17:45:00</td>\n",
       "      <td>2014-06-29T17:45:00</td>\n",
       "      <td>*Frida</td>\n",
       "      <td>Offsite</td>\n",
       "      <td>...</td>\n",
       "      <td>NaN</td>\n",
       "      <td>False</td>\n",
       "      <td>True</td>\n",
       "      <td>NaN</td>\n",
       "      <td>white</td>\n",
       "      <td>black</td>\n",
       "      <td>white</td>\n",
       "      <td>2014-03-26</td>\n",
       "      <td>2014-06-29 17:45:00</td>\n",
       "      <td>0.260274</td>\n",
       "    </tr>\n",
       "    <tr>\n",
       "      <th>3</th>\n",
       "      <td>1 year</td>\n",
       "      <td>A675405</td>\n",
       "      <td>Cat</td>\n",
       "      <td>domestic mediumhair</td>\n",
       "      <td>black/white</td>\n",
       "      <td>2013-03-27 00:00:00</td>\n",
       "      <td>2014-03-28 14:55:00</td>\n",
       "      <td>2014-03-28T14:55:00</td>\n",
       "      <td>Stella Luna</td>\n",
       "      <td>NaN</td>\n",
       "      <td>...</td>\n",
       "      <td>NaN</td>\n",
       "      <td>False</td>\n",
       "      <td>True</td>\n",
       "      <td>NaN</td>\n",
       "      <td>black</td>\n",
       "      <td>white</td>\n",
       "      <td>black</td>\n",
       "      <td>2013-03-27</td>\n",
       "      <td>2014-03-28 14:55:00</td>\n",
       "      <td>1.002740</td>\n",
       "    </tr>\n",
       "    <tr>\n",
       "      <th>4</th>\n",
       "      <td>3 weeks</td>\n",
       "      <td>A670420</td>\n",
       "      <td>Cat</td>\n",
       "      <td>domestic shorthair</td>\n",
       "      <td>black/white</td>\n",
       "      <td>2013-12-16 00:00:00</td>\n",
       "      <td>2014-01-09 19:29:00</td>\n",
       "      <td>2014-01-09T19:29:00</td>\n",
       "      <td>NaN</td>\n",
       "      <td>Partner</td>\n",
       "      <td>...</td>\n",
       "      <td>NaN</td>\n",
       "      <td>False</td>\n",
       "      <td>True</td>\n",
       "      <td>NaN</td>\n",
       "      <td>black</td>\n",
       "      <td>white</td>\n",
       "      <td>black</td>\n",
       "      <td>2013-12-16</td>\n",
       "      <td>2014-01-09 19:29:00</td>\n",
       "      <td>0.065753</td>\n",
       "    </tr>\n",
       "  </tbody>\n",
       "</table>\n",
       "<p>5 rows × 40 columns</p>\n",
       "</div>"
      ],
      "text/plain": [
       "  age_upon_outcome animal_id animal_type                breed        color  \\\n",
       "0          2 weeks   A684346         Cat   domestic shorthair       orange   \n",
       "1          1 month   A685067         Cat   domestic shorthair  blue /white   \n",
       "2         3 months   A678580         Cat   domestic shorthair  white/black   \n",
       "3           1 year   A675405         Cat  domestic mediumhair  black/white   \n",
       "4          3 weeks   A670420         Cat   domestic shorthair  black/white   \n",
       "\n",
       "         date_of_birth             datetime            monthyear         name  \\\n",
       "0  2014-07-07 00:00:00  2014-07-22 16:04:00  2014-07-22T16:04:00          NaN   \n",
       "1  2014-06-16 00:00:00  2014-08-14 18:45:00  2014-08-14T18:45:00         Lucy   \n",
       "2  2014-03-26 00:00:00  2014-06-29 17:45:00  2014-06-29T17:45:00       *Frida   \n",
       "3  2013-03-27 00:00:00  2014-03-28 14:55:00  2014-03-28T14:55:00  Stella Luna   \n",
       "4  2013-12-16 00:00:00  2014-01-09 19:29:00  2014-01-09T19:29:00          NaN   \n",
       "\n",
       "  outcome_subtype    ...    breed2 cfa_breed  domestic_breed coat_pattern  \\\n",
       "0         Partner    ...       NaN     False            True        tabby   \n",
       "1             NaN    ...       NaN     False            True        tabby   \n",
       "2         Offsite    ...       NaN     False            True          NaN   \n",
       "3             NaN    ...       NaN     False            True          NaN   \n",
       "4         Partner    ...       NaN     False            True          NaN   \n",
       "\n",
       "   color1  color2    coat  dateofbirth           datetime2   cat_age  \n",
       "0  orange     NaN  orange   2014-07-07 2014-07-22 16:04:00  0.041096  \n",
       "1   blue    white   blue    2014-06-16 2014-08-14 18:45:00  0.161644  \n",
       "2   white   black   white   2014-03-26 2014-06-29 17:45:00  0.260274  \n",
       "3   black   white   black   2013-03-27 2014-03-28 14:55:00  1.002740  \n",
       "4   black   white   black   2013-12-16 2014-01-09 19:29:00  0.065753  \n",
       "\n",
       "[5 rows x 40 columns]"
      ]
     },
     "execution_count": 193,
     "metadata": {},
     "output_type": "execute_result"
    }
   ],
   "source": [
    "import pandas as pd\n",
    "import numpy as np\n",
    "\n",
    "Shelter_cat = pd.read_csv(\"/Users/lemonswilliams/Documents/DSC 530/DSC530 Final/aac_shelter_cat_outcome_eng.csv\")\n",
    "Shelter_cat['dateofbirth'] = pd.to_datetime(Shelter_cat['date_of_birth'])\n",
    "Shelter_cat['datetime2'] = pd.to_datetime(Shelter_cat['datetime'])\n",
    "\n",
    "Shelter_cat['cat_age'] = (Shelter_cat['datetime2'] - Shelter_cat['dateofbirth'])\n",
    "Shelter_cat[\"cat_age\"] = (Shelter_cat[\"cat_age\"] / np.timedelta64(1, 'D')).astype(int)\n",
    "Shelter_cat[\"cat_age\"] = Shelter_cat[\"cat_age\"]/365\n",
    "\n",
    "Shelter_cat.head()"
   ]
  },
  {
   "cell_type": "code",
   "execution_count": 194,
   "metadata": {},
   "outputs": [],
   "source": [
    "black_list = [\"black\",\"/black\",\"black/\",\"black/black\",\"black /black\"]\n",
    "sex_list = [\"Female\"]\n",
    "\n",
    "sex_flag = []\n",
    "color_flag = []\n",
    "for x in Shelter_cat[\"color\"]:\n",
    "    if x in black_list:\n",
    "        y = 1\n",
    "    else:\n",
    "        y = 0\n",
    "    color_flag.append(y)\n",
    "\n",
    "Shelter_cat[\"color_flag\"] = color_flag  \n",
    "\n",
    "\n",
    "for x in Shelter_cat[\"sex\"]:\n",
    "    if x in sex_list:\n",
    "        y = 1\n",
    "    else:\n",
    "        y = 0\n",
    "    sex_flag.append(y)\n",
    "\n",
    "Shelter_cat[\"sex_flag\"] = sex_flag "
   ]
  },
  {
   "cell_type": "code",
   "execution_count": 195,
   "metadata": {},
   "outputs": [
    {
     "data": {
      "text/html": [
       "<div>\n",
       "<style scoped>\n",
       "    .dataframe tbody tr th:only-of-type {\n",
       "        vertical-align: middle;\n",
       "    }\n",
       "\n",
       "    .dataframe tbody tr th {\n",
       "        vertical-align: top;\n",
       "    }\n",
       "\n",
       "    .dataframe thead th {\n",
       "        text-align: right;\n",
       "    }\n",
       "</style>\n",
       "<table border=\"1\" class=\"dataframe\">\n",
       "  <thead>\n",
       "    <tr style=\"text-align: right;\">\n",
       "      <th></th>\n",
       "      <th>cat_age</th>\n",
       "      <th>breed</th>\n",
       "      <th>color_flag</th>\n",
       "      <th>outcome_type</th>\n",
       "      <th>sex_flag</th>\n",
       "      <th>Spay/Neuter</th>\n",
       "    </tr>\n",
       "  </thead>\n",
       "  <tbody>\n",
       "    <tr>\n",
       "      <th>0</th>\n",
       "      <td>0.041096</td>\n",
       "      <td>domestic shorthair</td>\n",
       "      <td>0</td>\n",
       "      <td>Transfer</td>\n",
       "      <td>0</td>\n",
       "      <td>No</td>\n",
       "    </tr>\n",
       "    <tr>\n",
       "      <th>1</th>\n",
       "      <td>0.161644</td>\n",
       "      <td>domestic shorthair</td>\n",
       "      <td>0</td>\n",
       "      <td>Adoption</td>\n",
       "      <td>1</td>\n",
       "      <td>No</td>\n",
       "    </tr>\n",
       "    <tr>\n",
       "      <th>2</th>\n",
       "      <td>0.260274</td>\n",
       "      <td>domestic shorthair</td>\n",
       "      <td>0</td>\n",
       "      <td>Adoption</td>\n",
       "      <td>1</td>\n",
       "      <td>Yes</td>\n",
       "    </tr>\n",
       "    <tr>\n",
       "      <th>3</th>\n",
       "      <td>1.002740</td>\n",
       "      <td>domestic mediumhair</td>\n",
       "      <td>0</td>\n",
       "      <td>Return to Owner</td>\n",
       "      <td>1</td>\n",
       "      <td>Yes</td>\n",
       "    </tr>\n",
       "    <tr>\n",
       "      <th>4</th>\n",
       "      <td>0.065753</td>\n",
       "      <td>domestic shorthair</td>\n",
       "      <td>0</td>\n",
       "      <td>Transfer</td>\n",
       "      <td>0</td>\n",
       "      <td>No</td>\n",
       "    </tr>\n",
       "  </tbody>\n",
       "</table>\n",
       "</div>"
      ],
      "text/plain": [
       "    cat_age                breed  color_flag     outcome_type  sex_flag  \\\n",
       "0  0.041096   domestic shorthair           0         Transfer         0   \n",
       "1  0.161644   domestic shorthair           0         Adoption         1   \n",
       "2  0.260274   domestic shorthair           0         Adoption         1   \n",
       "3  1.002740  domestic mediumhair           0  Return to Owner         1   \n",
       "4  0.065753   domestic shorthair           0         Transfer         0   \n",
       "\n",
       "  Spay/Neuter  \n",
       "0          No  \n",
       "1          No  \n",
       "2         Yes  \n",
       "3         Yes  \n",
       "4          No  "
      ]
     },
     "execution_count": 195,
     "metadata": {},
     "output_type": "execute_result"
    }
   ],
   "source": [
    "Shelter_cat1 = Shelter_cat[[\"cat_age\", \"breed\", \"color_flag\" , \"outcome_type\" , \"sex_flag\" , \"Spay/Neuter\"]]\n",
    "Shelter_cat1.head()"
   ]
  },
  {
   "cell_type": "markdown",
   "metadata": {},
   "source": [
    "### Part 2\n",
    "\n",
    "Now we need to start visualizing and understand what this data has."
   ]
  },
  {
   "cell_type": "code",
   "execution_count": 196,
   "metadata": {},
   "outputs": [],
   "source": [
    "import thinkstats2\n",
    "import thinkplot"
   ]
  },
  {
   "cell_type": "markdown",
   "metadata": {},
   "source": [
    "#### 1. Histogram of Cat Age"
   ]
  },
  {
   "cell_type": "code",
   "execution_count": 197,
   "metadata": {},
   "outputs": [
    {
     "name": "stderr",
     "output_type": "stream",
     "text": [
      "No handles with labels found to put in legend.\n"
     ]
    },
    {
     "data": {
      "image/png": "[encoded data removed]",
      "text/plain": [
       "<Figure size 432x288 with 1 Axes>"
      ]
     },
     "metadata": {},
     "output_type": "display_data"
    }
   ],
   "source": [
    "cat_age = Shelter_cat1[\"cat_age\"]\n",
    "\n",
    "cat_age_hist = thinkstats2.Hist(cat_age)\n",
    "\n",
    "thinkplot.Hist(cat_age_hist)\n",
    "thinkplot.Config(xlabel='age (years)', ylabel='frequency', xlim=[0, 10], ylim=[0,250])"
   ]
  },
  {
   "cell_type": "markdown",
   "metadata": {},
   "source": [
    "#### 2. Breeds"
   ]
  },
  {
   "cell_type": "code",
   "execution_count": 198,
   "metadata": {
    "scrolled": true
   },
   "outputs": [
    {
     "data": {
      "text/plain": [
       "<matplotlib.axes._subplots.AxesSubplot at 0x1a1f833b70>"
      ]
     },
     "execution_count": 198,
     "metadata": {},
     "output_type": "execute_result"
    },
    {
     "data": {
      "image/png": "[encoded data removed]",
      "text/plain": [
       "<Figure size 432x288 with 1 Axes>"
      ]
     },
     "metadata": {},
     "output_type": "display_data"
    }
   ],
   "source": [
    "Shelter_cat1['breed'].value_counts()[:15].plot(kind='bar')"
   ]
  },
  {
   "cell_type": "markdown",
   "metadata": {},
   "source": [
    "#### 3. Color (Expanded Chart and Histogram)"
   ]
  },
  {
   "cell_type": "code",
   "execution_count": 199,
   "metadata": {},
   "outputs": [
    {
     "data": {
      "text/plain": [
       "<matplotlib.axes._subplots.AxesSubplot at 0x1a2c128278>"
      ]
     },
     "execution_count": 199,
     "metadata": {},
     "output_type": "execute_result"
    },
    {
     "data": {
      "image/png": "[encoded data removed]",
      "text/plain": [
       "<Figure size 432x288 with 1 Axes>"
      ]
     },
     "metadata": {},
     "output_type": "display_data"
    }
   ],
   "source": [
    "Shelter_cat['color'].value_counts()[:15].plot(kind='bar')"
   ]
  },
  {
   "cell_type": "code",
   "execution_count": 200,
   "metadata": {},
   "outputs": [
    {
     "name": "stderr",
     "output_type": "stream",
     "text": [
      "No handles with labels found to put in legend.\n"
     ]
    },
    {
     "data": {
      "image/png": "[encoded data removed]",
      "text/plain": [
       "<Figure size 432x288 with 1 Axes>"
      ]
     },
     "metadata": {},
     "output_type": "display_data"
    }
   ],
   "source": [
    "cat_black_flag = Shelter_cat1[\"color_flag\"]\n",
    "\n",
    "cat_black_hist = thinkstats2.Hist(cat_black_flag)\n",
    "\n",
    "thinkplot.Hist(cat_black_hist)\n",
    "thinkplot.Config(xlabel='Black Cat Flag (0 = Not Black, 1 = Black)', ylabel='frequency')"
   ]
  },
  {
   "cell_type": "markdown",
   "metadata": {},
   "source": [
    "#### 4. Outcome"
   ]
  },
  {
   "cell_type": "code",
   "execution_count": 201,
   "metadata": {},
   "outputs": [
    {
     "data": {
      "text/plain": [
       "<matplotlib.axes._subplots.AxesSubplot at 0x1a2bfd1358>"
      ]
     },
     "execution_count": 201,
     "metadata": {},
     "output_type": "execute_result"
    },
    {
     "data": {
      "image/png": "[encoded data removed]",
      "text/plain": [
       "<Figure size 432x288 with 1 Axes>"
      ]
     },
     "metadata": {},
     "output_type": "display_data"
    }
   ],
   "source": [
    "Shelter_cat['outcome_type'].value_counts().plot(kind='bar')"
   ]
  },
  {
   "cell_type": "markdown",
   "metadata": {},
   "source": [
    "#### 5. Sex"
   ]
  },
  {
   "cell_type": "code",
   "execution_count": 202,
   "metadata": {},
   "outputs": [
    {
     "name": "stderr",
     "output_type": "stream",
     "text": [
      "No handles with labels found to put in legend.\n"
     ]
    },
    {
     "data": {
      "image/png": "[encoded data removed]",
      "text/plain": [
       "<Figure size 432x288 with 1 Axes>"
      ]
     },
     "metadata": {},
     "output_type": "display_data"
    }
   ],
   "source": [
    "sex_freq = thinkstats2.Hist(Shelter_cat[\"sex_flag\"])\n",
    "\n",
    "thinkplot.Hist(sex_freq)\n",
    "thinkplot.Config(xlabel='Sex (0 = Male, 1 = Female)', ylabel='frequency')"
   ]
  },
  {
   "cell_type": "markdown",
   "metadata": {},
   "source": [
    "### Part 3\n",
    "\n",
    "Descriptive Statistics"
   ]
  },
  {
   "cell_type": "markdown",
   "metadata": {},
   "source": [
    "##### 1. Cat Age\n",
    "The mean, variance and standard deviation for the age of the cat in years is:"
   ]
  },
  {
   "cell_type": "code",
   "execution_count": 203,
   "metadata": {},
   "outputs": [
    {
     "name": "stdout",
     "output_type": "stream",
     "text": [
      "Mean:  1.46\n",
      "Variance:  7.26\n",
      "Standard Deviation:  2.69\n"
     ]
    }
   ],
   "source": [
    "print(\"Mean: \",round(Shelter_cat1.cat_age.mean(),2))\n",
    "print(\"Variance: \",round(Shelter_cat1.cat_age.var(),2))\n",
    "print(\"Standard Deviation: \",round(Shelter_cat1.cat_age.std(),2))"
   ]
  },
  {
   "cell_type": "markdown",
   "metadata": {},
   "source": [
    "#### 2. Breeds\n",
    "\n",
    "Since breeds are a categorical data type, the mean, variance, and standard deviation are not taht applicable here. We can see however, the types of the breeds that go through the shelter. By Far Domestic Shorthair is the most common of the breeds. "
   ]
  },
  {
   "cell_type": "markdown",
   "metadata": {},
   "source": [
    "#### 3. Color\n",
    "\n",
    "So this is the really important variable for us, since we want to know about black cats and their statuses. Referencing Part 2 section 3. There was some clean up that I did around color. So I wanted to look at a bar chart of the data to see all of the colors in the raw format. But then I did a histogram to see how many black cats versus not black cats. By the looks of the histogram there is a total of 30,000 cats, with roughly 5,000 black and 25,000 not black."
   ]
  },
  {
   "cell_type": "markdown",
   "metadata": {},
   "source": [
    "#### 4. Outcome\n",
    "\n",
    "The types of outcome are listed below."
   ]
  },
  {
   "cell_type": "code",
   "execution_count": 205,
   "metadata": {},
   "outputs": [
    {
     "data": {
      "text/plain": [
       "array(['Transfer', 'Adoption', 'Return to Owner', 'Died', 'Euthanasia',\n",
       "       'Missing', 'Disposal', 'Rto-Adopt', nan], dtype=object)"
      ]
     },
     "execution_count": 205,
     "metadata": {},
     "output_type": "execute_result"
    }
   ],
   "source": [
    "Shelter_cat1.outcome_type.unique()"
   ]
  },
  {
   "cell_type": "markdown",
   "metadata": {},
   "source": [
    "Transfer and Adoption are the most prevalent outcomes when it comes to outcomes."
   ]
  },
  {
   "cell_type": "markdown",
   "metadata": {},
   "source": [
    "#### 5. Sex\n",
    "\n",
    "There are only two types of sex. Male or Female. There are about 3,000 more females than males."
   ]
  },
  {
   "cell_type": "markdown",
   "metadata": {},
   "source": [
    "### Part 4\n",
    "\n",
    "PMF"
   ]
  },
  {
   "cell_type": "code",
   "execution_count": 255,
   "metadata": {},
   "outputs": [],
   "source": [
    "Outcome_type_num = []\n",
    "for x in Shelter_cat[\"outcome_type\"]:\n",
    "    if x == \"Transfer\":\n",
    "        y = 0\n",
    "    elif x == \"Adoption\":\n",
    "        y = 1\n",
    "    elif x == \"Return to Owner\":\n",
    "        y = 2\n",
    "    elif x == \"Died\":\n",
    "        y = 3\n",
    "    elif x == \"Euthanasia\":\n",
    "        y = 4\n",
    "    elif x == \"Missing\":\n",
    "        y = 5\n",
    "    elif x == \"Disposal\":\n",
    "        y = 6\n",
    "    elif x == \"Rto-Adopt\":\n",
    "        y = 7\n",
    "    else:\n",
    "        y = 8\n",
    "    Outcome_type_num.append(y)\n",
    "\n",
    "Shelter_cat[\"Outcome_type_num\"] = Outcome_type_num  "
   ]
  },
  {
   "cell_type": "code",
   "execution_count": 256,
   "metadata": {},
   "outputs": [],
   "source": [
    "Black_Cats = Shelter_cat[(Shelter_cat.color_flag == 1)]\n",
    "Other_Cats = Shelter_cat[(Shelter_cat.color_flag == 0)]\n",
    "\n",
    "Black_Cat_Outcome_Pmf = thinkstats2.Pmf(Black_Cats.Outcome_type_num, label=\"Black Cats\")\n",
    "Other_Cat_Outcome_Pmf = thinkstats2.Pmf(Other_Cats.Outcome_type_num, label=\"Other Cats\")"
   ]
  },
  {
   "cell_type": "code",
   "execution_count": 257,
   "metadata": {},
   "outputs": [
    {
     "data": {
      "image/png": "[encoded data removed]",
      "text/plain": [
       "<Figure size 864x432 with 1 Axes>"
      ]
     },
     "metadata": {},
     "output_type": "display_data"
    }
   ],
   "source": [
    "width=.4\n",
    "thinkplot.PrePlot(2, cols=2)\n",
    "thinkplot.Hist(Black_Cat_Outcome_Pmf, align='right', width=width)\n",
    "thinkplot.Hist(Other_Cat_Outcome_Pmf, align='left', width=width)\n",
    "thinkplot.Config(xlabel=\"Shelter Outcome for Cats\", ylabel='PMF')\n",
    "\n",
    "#For Reference:\n",
    "#Transfer = 0\n",
    "#Adoption = 1\n",
    "#Return to Owner = 2\n",
    "#Died = 3\n",
    "#Euthanasia = 4\n",
    "#Missing = 5\n",
    "#Disposal = 6\n",
    "#Rto-Adopt = 7\n",
    "#Everything else = 8"
   ]
  },
  {
   "cell_type": "markdown",
   "metadata": {},
   "source": [
    "### Part 5\n",
    "CDF"
   ]
  },
  {
   "cell_type": "code",
   "execution_count": 258,
   "metadata": {},
   "outputs": [],
   "source": [
    "Black_Cat_Outcome_Cdf = thinkstats2.Cdf(Black_Cats.Outcome_type_num, label=\"Black Cats\")\n",
    "Other_Cat_Outcome_Cdf = thinkstats2.Cdf(Other_Cats.Outcome_type_num, label=\"Other Cats\")"
   ]
  },
  {
   "cell_type": "code",
   "execution_count": 259,
   "metadata": {},
   "outputs": [
    {
     "data": {
      "image/png": "[encoded data removed]",
      "text/plain": [
       "<Figure size 432x288 with 1 Axes>"
      ]
     },
     "metadata": {},
     "output_type": "display_data"
    }
   ],
   "source": [
    "thinkplot.PrePlot(2)\n",
    "thinkplot.Cdfs([Black_Cat_Outcome_Cdf, Other_Cat_Outcome_Cdf])\n",
    "thinkplot.Config(xlabel='Outcome', ylabel='CDF')"
   ]
  },
  {
   "cell_type": "markdown",
   "metadata": {},
   "source": [
    "The cdf to the right shows that the most common outcome types are transfers and adoptions. As well, we compared the cdf of black cats versus other cats and you can see that they have very similar outcomes. Making me think that black cats are treated close to equal to not black cats."
   ]
  },
  {
   "cell_type": "markdown",
   "metadata": {},
   "source": [
    "### Part 6\n",
    "\n",
    "Analytical Distribution"
   ]
  },
  {
   "cell_type": "code",
   "execution_count": 266,
   "metadata": {},
   "outputs": [
    {
     "data": {
      "image/png": "[encoded data removed]",
      "text/plain": [
       "<Figure size 432x288 with 1 Axes>"
      ]
     },
     "metadata": {},
     "output_type": "display_data"
    }
   ],
   "source": [
    "thinkplot.Cdf(Black_Cat_Outcome_Cdf, complement=True)\n",
    "thinkplot.Config(xlabel='Black Cat Outcome',\n",
    "                 ylabel='CCDF', yscale='log', loc='upper right')"
   ]
  },
  {
   "cell_type": "markdown",
   "metadata": {},
   "source": [
    "### Part 7\n",
    "\n",
    "Scatter Plot"
   ]
  },
  {
   "cell_type": "code",
   "execution_count": 262,
   "metadata": {
    "scrolled": true
   },
   "outputs": [
    {
     "data": {
      "image/png": "[encoded data removed]",
      "text/plain": [
       "<Figure size 432x288 with 1 Axes>"
      ]
     },
     "metadata": {},
     "output_type": "display_data"
    }
   ],
   "source": [
    "Age = Shelter_cat[\"cat_age\"]\n",
    "Outcome = Shelter_cat[\"Outcome_type_num\"]\n",
    "Color = Shelter_cat[\"color_flag\"]\n",
    "\n",
    "thinkplot.Scatter(Age, Outcome, alpha=1.0)\n",
    "thinkplot.Config(xlabel='Age',\n",
    "                 ylabel='Outcome',\n",
    "                 legend=False)"
   ]
  },
  {
   "cell_type": "code",
   "execution_count": 264,
   "metadata": {},
   "outputs": [
    {
     "name": "stdout",
     "output_type": "stream",
     "text": [
      "Covariance:  0.5566571244901255\n",
      "Correlation:  0.20375020966935173\n"
     ]
    }
   ],
   "source": [
    "def Cov(xs, ys, meanx=None, meany=None):\n",
    "    xs = np.asarray(xs)\n",
    "    ys = np.asarray(ys)\n",
    "\n",
    "    if meanx is None:\n",
    "        meanx = np.mean(xs)\n",
    "    if meany is None:\n",
    "        meany = np.mean(ys)\n",
    "\n",
    "    cov = np.dot(xs-meanx, ys-meany) / len(xs)\n",
    "    return cov\n",
    "\n",
    "def Corr(xs, ys):\n",
    "    xs = np.asarray(xs)\n",
    "    ys = np.asarray(ys)\n",
    "\n",
    "    meanx, varx = thinkstats2.MeanVar(xs)\n",
    "    meany, vary = thinkstats2.MeanVar(ys)\n",
    "\n",
    "    corr = Cov(xs, ys, meanx, meany) / np.sqrt(varx * vary)\n",
    "    return corr\n",
    "\n",
    "print(\"Covariance: \", Cov(Age,Outcome))\n",
    "print(\"Correlation: \", Corr(Age,Outcome))\n",
    "\n",
    "#print(\"Covariance: \", Cov(Age,Color))\n",
    "#print(\"Correlation: \", Corr(Age,Color))\n",
    "\n",
    "#print(\"Covariance: \", Cov(Color,Outcome))\n",
    "#print(\"Correlation: \", Corr(Color,Outcome))"
   ]
  },
  {
   "cell_type": "code",
   "execution_count": 265,
   "metadata": {
    "scrolled": true
   },
   "outputs": [
    {
     "name": "stdout",
     "output_type": "stream",
     "text": [
      "Covariance:  -0.034375653614923785\n",
      "Correlation:  -0.036368903999916706\n"
     ]
    },
    {
     "data": {
      "image/png": "[encoded data removed]",
      "text/plain": [
       "<Figure size 432x288 with 1 Axes>"
      ]
     },
     "metadata": {},
     "output_type": "display_data"
    }
   ],
   "source": [
    "thinkplot.Scatter(Age, Color, alpha=1.0)\n",
    "thinkplot.Config(xlabel='Age',\n",
    "                 ylabel='Color',\n",
    "                 legend=False)\n",
    "print(\"Covariance: \", Cov(Age,Color))\n",
    "print(\"Correlation: \", Corr(Age,Color))"
   ]
  },
  {
   "cell_type": "markdown",
   "metadata": {},
   "source": [
    "### Part 8\n",
    "\n",
    "Hypothesis Test"
   ]
  },
  {
   "cell_type": "code",
   "execution_count": 274,
   "metadata": {},
   "outputs": [
    {
     "data": {
      "text/plain": [
       "0.041"
      ]
     },
     "execution_count": 274,
     "metadata": {},
     "output_type": "execute_result"
    }
   ],
   "source": [
    "#So we are trying to test to see if the outcomes are the same. \n",
    "#Thus we are taking the average of the outcomes for black cats and other cats. \n",
    "#We assume that there is no difference as our null hypothesis.\n",
    "#The p-value is less than 0.05 and thus statistically significant and we reject the null hypothesis.\n",
    "#Thus, Black cats have different outcomes than not black cats.\n",
    "\n",
    "class DiffMeansPermute(thinkstats2.HypothesisTest):\n",
    "\n",
    "    def TestStatistic(self, data):\n",
    "        group1, group2 = data\n",
    "        test_stat = abs(group1.mean() - group2.mean())\n",
    "        return test_stat\n",
    "\n",
    "    def MakeModel(self):\n",
    "        group1, group2 = self.data\n",
    "        self.n, self.m = len(group1), len(group2)\n",
    "        self.pool = np.hstack((group1, group2))\n",
    "\n",
    "    def RunModel(self):\n",
    "        np.random.shuffle(self.pool)\n",
    "        data = self.pool[:self.n], self.pool[self.n:]\n",
    "        return data\n",
    "\n",
    "data = Black_Cats.Outcome_type_num, Other_Cats.Outcome_type_num\n",
    "\n",
    "ht = DiffMeansPermute(data)\n",
    "pvalue = ht.PValue()\n",
    "pvalue"
   ]
  },
  {
   "cell_type": "markdown",
   "metadata": {},
   "source": [
    "### Part 9\n",
    "\n",
    "Regression Analysis"
   ]
  },
  {
   "cell_type": "code",
   "execution_count": 273,
   "metadata": {},
   "outputs": [
    {
     "data": {
      "text/html": [
       "<table class=\"simpletable\">\n",
       "<caption>OLS Regression Results</caption>\n",
       "<tr>\n",
       "  <th>Dep. Variable:</th>    <td>Outcome_type_num</td> <th>  R-squared:         </th> <td>   0.000</td> \n",
       "</tr>\n",
       "<tr>\n",
       "  <th>Model:</th>                   <td>OLS</td>       <th>  Adj. R-squared:    </th> <td>   0.000</td> \n",
       "</tr>\n",
       "<tr>\n",
       "  <th>Method:</th>             <td>Least Squares</td>  <th>  F-statistic:       </th> <td>   4.228</td> \n",
       "</tr>\n",
       "<tr>\n",
       "  <th>Date:</th>             <td>Wed, 14 Nov 2018</td> <th>  Prob (F-statistic):</th>  <td>0.0398</td>  \n",
       "</tr>\n",
       "<tr>\n",
       "  <th>Time:</th>                 <td>19:54:12</td>     <th>  Log-Likelihood:    </th> <td> -42158.</td> \n",
       "</tr>\n",
       "<tr>\n",
       "  <th>No. Observations:</th>      <td> 29421</td>      <th>  AIC:               </th> <td>8.432e+04</td>\n",
       "</tr>\n",
       "<tr>\n",
       "  <th>Df Residuals:</th>          <td> 29419</td>      <th>  BIC:               </th> <td>8.434e+04</td>\n",
       "</tr>\n",
       "<tr>\n",
       "  <th>Df Model:</th>              <td>     1</td>      <th>                     </th>     <td> </td>    \n",
       "</tr>\n",
       "<tr>\n",
       "  <th>Covariance Type:</th>      <td>nonrobust</td>    <th>                     </th>     <td> </td>    \n",
       "</tr>\n",
       "</table>\n",
       "<table class=\"simpletable\">\n",
       "<tr>\n",
       "       <td></td>         <th>coef</th>     <th>std err</th>      <th>t</th>      <th>P>|t|</th>  <th>[0.025</th>    <th>0.975]</th>  \n",
       "</tr>\n",
       "<tr>\n",
       "  <th>Intercept</th>  <td>    0.7902</td> <td>    0.006</td> <td>  123.673</td> <td> 0.000</td> <td>    0.778</td> <td>    0.803</td>\n",
       "</tr>\n",
       "<tr>\n",
       "  <th>color_flag</th> <td>   -0.0346</td> <td>    0.017</td> <td>   -2.056</td> <td> 0.040</td> <td>   -0.068</td> <td>   -0.002</td>\n",
       "</tr>\n",
       "</table>\n",
       "<table class=\"simpletable\">\n",
       "<tr>\n",
       "  <th>Omnibus:</th>       <td>12080.747</td> <th>  Durbin-Watson:     </th> <td>   1.987</td> \n",
       "</tr>\n",
       "<tr>\n",
       "  <th>Prob(Omnibus):</th>  <td> 0.000</td>   <th>  Jarque-Bera (JB):  </th> <td>51677.789</td>\n",
       "</tr>\n",
       "<tr>\n",
       "  <th>Skew:</th>           <td> 2.030</td>   <th>  Prob(JB):          </th> <td>    0.00</td> \n",
       "</tr>\n",
       "<tr>\n",
       "  <th>Kurtosis:</th>       <td> 8.067</td>   <th>  Cond. No.          </th> <td>    2.92</td> \n",
       "</tr>\n",
       "</table><br/><br/>Warnings:<br/>[1] Standard Errors assume that the covariance matrix of the errors is correctly specified."
      ],
      "text/plain": [
       "<class 'statsmodels.iolib.summary.Summary'>\n",
       "\"\"\"\n",
       "                            OLS Regression Results                            \n",
       "==============================================================================\n",
       "Dep. Variable:       Outcome_type_num   R-squared:                       0.000\n",
       "Model:                            OLS   Adj. R-squared:                  0.000\n",
       "Method:                 Least Squares   F-statistic:                     4.228\n",
       "Date:                Wed, 14 Nov 2018   Prob (F-statistic):             0.0398\n",
       "Time:                        19:54:12   Log-Likelihood:                -42158.\n",
       "No. Observations:               29421   AIC:                         8.432e+04\n",
       "Df Residuals:                   29419   BIC:                         8.434e+04\n",
       "Df Model:                           1                                         \n",
       "Covariance Type:            nonrobust                                         \n",
       "==============================================================================\n",
       "                 coef    std err          t      P>|t|      [0.025      0.975]\n",
       "------------------------------------------------------------------------------\n",
       "Intercept      0.7902      0.006    123.673      0.000       0.778       0.803\n",
       "color_flag    -0.0346      0.017     -2.056      0.040      -0.068      -0.002\n",
       "==============================================================================\n",
       "Omnibus:                    12080.747   Durbin-Watson:                   1.987\n",
       "Prob(Omnibus):                  0.000   Jarque-Bera (JB):            51677.789\n",
       "Skew:                           2.030   Prob(JB):                         0.00\n",
       "Kurtosis:                       8.067   Cond. No.                         2.92\n",
       "==============================================================================\n",
       "\n",
       "Warnings:\n",
       "[1] Standard Errors assume that the covariance matrix of the errors is correctly specified.\n",
       "\"\"\""
      ]
     },
     "execution_count": 273,
     "metadata": {},
     "output_type": "execute_result"
    }
   ],
   "source": [
    "import statsmodels.formula.api as smf\n",
    "\n",
    "formula = \"Outcome_type_num ~ color_flag\"\n",
    "model = smf.ols(formula, data=Shelter_cat)\n",
    "results = model.fit()\n",
    "results.summary()"
   ]
  },
  {
   "cell_type": "code",
   "execution_count": null,
   "metadata": {},
   "outputs": [],
   "source": []
  }
 ],
 "metadata": {
  "kernelspec": {
   "display_name": "Python 3",
   "language": "python",
   "name": "python3"
  },
  "language_info": {
   "codemirror_mode": {
    "name": "ipython",
    "version": 3
   },
   "file_extension": ".py",
   "mimetype": "text/x-python",
   "name": "python",
   "nbconvert_exporter": "python",
   "pygments_lexer": "ipython3",
   "version": "3.6.5"
  }
 },
 "nbformat": 4,
 "nbformat_minor": 2
}
